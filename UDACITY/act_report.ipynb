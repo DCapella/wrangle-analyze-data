{
 "cells": [
  {
   "cell_type": "markdown",
   "metadata": {},
   "source": [
    "#### Udacity\n",
    "\n",
    "> Create a 250-word-minimum written report called act_report.pdf or act_report.html that communicates the insights and displays the visualization(s) produced from your wrangled data. This is to be framed as an external document, like a blog post or magazine article, for example."
   ]
  },
  {
   "cell_type": "markdown",
   "metadata": {},
   "source": [
    "# Report\n",
    "\n",
    "#### [David Capella](http://davidcapella.com)"
   ]
  },
  {
   "cell_type": "markdown",
   "metadata": {},
   "source": [
    "Going into data exploration, finding the sum of certain columns is always the best place to start. By simply finding the sum of the favorite count column, we can see that over 16 million tweets were favorited all together. If one of the dogs win, they all win. In seeing how many times the tweets were retweeted, of all the tweets, it turned out to be over 5 million! Some of the links I would go to personally to check out what was going on just to make sure I had awareness, and that's when I found out additional efforts would be required to clean. Also, a lot of people had pictures of their dog on a rug and it seemed most people did not appreciate this. Most people wanted something easy to see. The final aspect to check is the sum of the retweets to make sure we did not grab a tweet that was not an 'original.' Checking this revealed that we were successful in this.\n",
    "\n",
    "Now, let us take a look at some distributions of the confidence of the algorithm's prediction:\n",
    "\n",
    "![p1-dist](./p1-dist.png)\n",
    "\n",
    "We can see here that is almost uniformly distributed but slightly left-skewed.\n",
    "\n",
    "![p2-dist](./p2-dist.png)\n",
    "\n",
    "This one is definitely right-skewed.\n",
    "\n",
    "![p3-dist](./p3-dist.png)\n",
    "\n",
    "Right skewed again.\n",
    "\n",
    "Interesting how it changed from each prediction confidence.\n",
    "\n",
    "In conclusion, [Udacity](www.udacity.com) helped make this a very successful project. In providing a lot of the data and the algorithm for the predictions we got to see it from the beginning to the end, in action. Even cleaning the data was exciting for the simple fact that it will help down the road."
   ]
  }
 ],
 "metadata": {
  "kernelspec": {
   "display_name": "Python 3",
   "language": "python",
   "name": "python3"
  },
  "language_info": {
   "codemirror_mode": {
    "name": "ipython",
    "version": 3
   },
   "file_extension": ".py",
   "mimetype": "text/x-python",
   "name": "python",
   "nbconvert_exporter": "python",
   "pygments_lexer": "ipython3",
   "version": "3.6.8"
  }
 },
 "nbformat": 4,
 "nbformat_minor": 2
}
